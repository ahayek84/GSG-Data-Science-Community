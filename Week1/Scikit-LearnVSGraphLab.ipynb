{
 "cells": [
  {
   "cell_type": "markdown",
   "metadata": {},
   "source": [
    "# Scikit-learn Vs GraphLab\n"
   ]
  },
  {
   "cell_type": "markdown",
   "metadata": {},
   "source": [
    "## Advantages of Scikit-learn:\n",
    "\n",
    "- Open Source: Scikit-learn is an open source library with over 500 contributors. Graphlab Create is a commercial software. If you are using scikit-learn, you will have lower costs and an assurance that it will be maintained for at least a few more years to come.\n",
    "- Support for Python 3: Scikit-learn now supports Python 3 while Graphlab Create is only compatible with Python 2.\n",
    "- More Algorithms: Scikit-learn seems to have more algorithms compared to Graphlab. If you look into clustering, Scikit-learn supports 9 algorithms(2.3. Clustering - scikit-learn 0.17 documentation ) while Graphlab supports 2 algorithms (https://dato.com/products/create/docs/graphlab.toolkits.clustering.html ).\n",
    "\n",
    "## Advantages of Graphlab Create (Dato):\n",
    " - Scalable: Scikit-learn implementations are completely executed in memory. In comparison, GraphLab Create is able to scale out-of-core, and many of the multi-threaded implementations take advantage of multiple cores on the machine.\n",
    " - GPU Support: You can also install Graphlab Create with GPU Acceleration (https://dato.com/download/instal... ). Scikit-learn on the other hand has no plan to support GPU at least in the near future (Frequently Asked Questions)"
   ]
  },
  {
   "cell_type": "markdown",
   "metadata": {},
   "source": [
    "# Graph-Lab "
   ]
  },
  {
   "cell_type": "markdown",
   "metadata": {},
   "source": [
    "## Load a tabular data set"
   ]
  },
  {
   "cell_type": "code",
   "execution_count": 4,
   "metadata": {},
   "outputs": [],
   "source": [
    "import graphlab"
   ]
  },
  {
   "cell_type": "code",
   "execution_count": 5,
   "metadata": {},
   "outputs": [
    {
     "name": "stdout",
     "output_type": "stream",
     "text": [
      "This non-commercial license of GraphLab Create for academic use is assigned to ahayek84@gmail.com and will expire on August 01, 2019.\n"
     ]
    },
    {
     "name": "stderr",
     "output_type": "stream",
     "text": [
      "[INFO] graphlab.cython.cy_server: GraphLab Create v2.1 started. Logging: /tmp/graphlab_server_1533571166.log\n"
     ]
    },
    {
     "data": {
      "text/html": [
       "<pre>Finished parsing file /home/ubuntu/GSG-Data-Science-Community/Week1/people-example.csv</pre>"
      ],
      "text/plain": [
       "Finished parsing file /home/ubuntu/GSG-Data-Science-Community/Week1/people-example.csv"
      ]
     },
     "metadata": {},
     "output_type": "display_data"
    },
    {
     "data": {
      "text/html": [
       "<pre>Parsing completed. Parsed 7 lines in 0.013997 secs.</pre>"
      ],
      "text/plain": [
       "Parsing completed. Parsed 7 lines in 0.013997 secs."
      ]
     },
     "metadata": {},
     "output_type": "display_data"
    },
    {
     "name": "stdout",
     "output_type": "stream",
     "text": [
      "------------------------------------------------------\n",
      "Inferred types from first 100 line(s) of file as \n",
      "column_type_hints=[str,str,str,int]\n",
      "If parsing fails due to incorrect types, you can correct\n",
      "the inferred type list above and pass it to read_csv in\n",
      "the column_type_hints argument\n",
      "------------------------------------------------------\n"
     ]
    },
    {
     "data": {
      "text/html": [
       "<pre>Finished parsing file /home/ubuntu/GSG-Data-Science-Community/Week1/people-example.csv</pre>"
      ],
      "text/plain": [
       "Finished parsing file /home/ubuntu/GSG-Data-Science-Community/Week1/people-example.csv"
      ]
     },
     "metadata": {},
     "output_type": "display_data"
    },
    {
     "data": {
      "text/html": [
       "<pre>Parsing completed. Parsed 7 lines in 0.010221 secs.</pre>"
      ],
      "text/plain": [
       "Parsing completed. Parsed 7 lines in 0.010221 secs."
      ]
     },
     "metadata": {},
     "output_type": "display_data"
    }
   ],
   "source": [
    "sf = graphlab.SFrame('people-example.csv')"
   ]
  },
  {
   "cell_type": "markdown",
   "metadata": {},
   "source": [
    "# Scikit-learn"
   ]
  },
  {
   "cell_type": "code",
   "execution_count": null,
   "metadata": {},
   "outputs": [],
   "source": []
  }
 ],
 "metadata": {
  "kernelspec": {
   "display_name": "Environment (conda_python2)",
   "language": "python",
   "name": "conda_python2"
  },
  "language_info": {
   "codemirror_mode": {
    "name": "ipython",
    "version": 2
   },
   "file_extension": ".py",
   "mimetype": "text/x-python",
   "name": "python",
   "nbconvert_exporter": "python",
   "pygments_lexer": "ipython2",
   "version": "2.7.14"
  }
 },
 "nbformat": 4,
 "nbformat_minor": 2
}
